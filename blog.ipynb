{
 "cells": [
  {
   "cell_type": "markdown",
   "source": [
    "Below is a project where I attempt to solve the age-old problem that comes with online shopping\n",
    "using **Bayesian Statistics**.\n",
    "\n",
    "So, which one of the following item is better?\n",
    "- A pair of glasses from a major brand A with an average rating of 4.1 from 1000 users\n",
    "- Another pair of glasses from a start-up with an average rating of 4.5 from 16 users\n",
    "\n",
    "Well, let's focus on item 1 for the moment, and assume:\n",
    "- 10 people gave a rating of 1\n",
    "- 20 people gave a rating of 2\n",
    "- 30 people gave a rating of 3\n",
    "- 225 people gave a rating of 4\n",
    "- 148 people gave a rating of 5"
   ],
   "metadata": {
    "collapsed": false,
    "pycharm": {
     "name": "#%% md\n"
    }
   }
  },
  {
   "cell_type": "code",
   "execution_count": 1,
   "metadata": {
    "collapsed": true
   },
   "outputs": [],
   "source": [
    "import numpy as np\n",
    "import pymc3 as pm\n",
    "import seaborn as sns\n",
    "sns.set_theme()\n",
    "\n",
    "import warnings\n",
    "warnings.filterwarnings(\"ignore\")"
   ]
  },
  {
   "cell_type": "code",
   "execution_count": 2,
   "outputs": [
    {
     "data": {
      "text/plain": "Text(0.5, 1.0, 'Rating Distribution')"
     },
     "execution_count": 2,
     "metadata": {},
     "output_type": "execute_result"
    },
    {
     "data": {
      "text/plain": "<Figure size 432x288 with 1 Axes>",
      "image/png": "[encoded data removed]"
     },
     "metadata": {},
     "output_type": "display_data"
    }
   ],
   "source": [
    "# The observations: the number of times an item is given a certain rating\n",
    "rating_distribution_1 = np.array([10, 20, 30, 225, 148])\n",
    "\n",
    "# Rating Scales 1 - 5\n",
    "stars = np.array([1, 2, 3, 4, 5])\n",
    "\n",
    "# Plot the rating distribution\n",
    "ax = sns.barplot(x=stars, y=rating_distribution_1)\n",
    "ax.set_title('Rating Distribution')"
   ],
   "metadata": {
    "collapsed": false,
    "pycharm": {
     "name": "#%%\n"
    }
   }
  },
  {
   "cell_type": "markdown",
   "source": [
    "After we have got everything input and set up in Python, we can use Pymc3 to run the simulations for us.\n",
    "\n",
    "I won't go into the details of Bayesian Statistics as it's out of the scope of this article.\n",
    "\n",
    "Essentially, what it can give us, is **an adjusted rating** that basically **penalizes** items with ratings given by fewer users.\n",
    "\n",
    "It can be a bit dry to explain that way, so let's plug in this real world example and run some simulations."
   ],
   "metadata": {
    "collapsed": false,
    "pycharm": {
     "name": "#%% md\n"
    }
   }
  },
  {
   "cell_type": "code",
   "execution_count": 3,
   "outputs": [],
   "source": [
    "def simulation(rating_distribution):\n",
    "    # Total Number of ratings\n",
    "    n = np.sum(rating_distribution)\n",
    "\n",
    "    # Total Number of choices\n",
    "    m = len(stars)\n",
    "\n",
    "    # Probability of each choice if the rating is given randomly\n",
    "    p = 1/m\n",
    "\n",
    "    # Average Rating\n",
    "    rating_avg = (rating_distribution * stars).sum()/n\n",
    "    print('Average Rating:', rating_avg)\n",
    "\n",
    "    with pm.Model() as model:\n",
    "        # Initialize the Dirichlet distribution with a uniform prior\n",
    "        a = np.ones(m)\n",
    "        theta = pm.Dirichlet('theta', a=a)\n",
    "\n",
    "        rating_true = pm.Deterministic('rating', (theta*stars).sum())\n",
    "\n",
    "        results = pm.Multinomial('results', n=n, p=theta, observed=rating_distribution)\n",
    "\n",
    "    with model:\n",
    "        trace = pm.sample(draws=2000)\n",
    "\n",
    "    ax = pm.plot_posterior(trace, var_names=['rating'])\n",
    "    ax.set_title('P(Rating = X)')\n",
    "\n",
    "    rating_adjusted = np.quantile(trace['rating'], 0.05)\n",
    "    print(rating_adjusted)"
   ],
   "metadata": {
    "collapsed": false,
    "pycharm": {
     "name": "#%%\n"
    }
   }
  },
  {
   "cell_type": "code",
   "execution_count": 4,
   "outputs": [
    {
     "name": "stdout",
     "output_type": "stream",
     "text": [
      "Average Rating: 4.1108545034642034\n"
     ]
    },
    {
     "name": "stderr",
     "output_type": "stream",
     "text": [
      "Auto-assigning NUTS sampler...\n",
      "Initializing NUTS using jitter+adapt_diag...\n",
      "Multiprocess sampling (4 chains in 4 jobs)\n",
      "NUTS: [theta]\n"
     ]
    },
    {
     "data": {
      "text/plain": "<IPython.core.display.HTML object>",
      "text/html": "\n    <div>\n        <style>\n            /* Turns off some styling */\n            progress {\n                /* gets rid of default border in Firefox and Opera. */\n                border: none;\n                /* Needs to be in here for Safari polyfill so background images work as expected. */\n                background-size: auto;\n            }\n            .progress-bar-interrupted, .progress-bar-interrupted::-webkit-progress-bar {\n                background: #F44336;\n            }\n        </style>\n      <progress value='0' class='' max='12000' style='width:300px; height:20px; vertical-align: middle;'></progress>\n      \n    </div>\n    "
     },
     "metadata": {},
     "output_type": "display_data"
    },
    {
     "name": "stderr",
     "output_type": "stream",
     "text": [
      "Sampling 4 chains for 1_000 tune and 2_000 draw iterations (4_000 + 8_000 draws total) took 13 seconds.\n"
     ]
    },
    {
     "name": "stdout",
     "output_type": "stream",
     "text": [
      "4.025586445164931\n"
     ]
    },
    {
     "data": {
      "text/plain": "<Figure size 432x288 with 1 Axes>",
      "image/png": "[encoded data removed]"
     },
     "metadata": {},
     "output_type": "display_data"
    }
   ],
   "source": [
    "simulation(rating_distribution_1)"
   ],
   "metadata": {
    "collapsed": false,
    "pycharm": {
     "name": "#%%\n"
    }
   }
  },
  {
   "cell_type": "code",
   "execution_count": 5,
   "outputs": [
    {
     "name": "stdout",
     "output_type": "stream",
     "text": [
      "Average Rating: 4.5\n"
     ]
    },
    {
     "name": "stderr",
     "output_type": "stream",
     "text": [
      "Auto-assigning NUTS sampler...\n",
      "Initializing NUTS using jitter+adapt_diag...\n",
      "Multiprocess sampling (4 chains in 4 jobs)\n",
      "NUTS: [theta]\n"
     ]
    },
    {
     "data": {
      "text/plain": "<IPython.core.display.HTML object>",
      "text/html": "\n    <div>\n        <style>\n            /* Turns off some styling */\n            progress {\n                /* gets rid of default border in Firefox and Opera. */\n                border: none;\n                /* Needs to be in here for Safari polyfill so background images work as expected. */\n                background-size: auto;\n            }\n            .progress-bar-interrupted, .progress-bar-interrupted::-webkit-progress-bar {\n                background: #F44336;\n            }\n        </style>\n      <progress value='0' class='' max='12000' style='width:300px; height:20px; vertical-align: middle;'></progress>\n      \n    </div>\n    "
     },
     "metadata": {},
     "output_type": "display_data"
    },
    {
     "name": "stderr",
     "output_type": "stream",
     "text": [
      "Sampling 4 chains for 1_000 tune and 2_000 draw iterations (4_000 + 8_000 draws total) took 12 seconds.\n",
      "The acceptance probability does not match the target. It is 0.6687808080243777, but should be close to 0.8. Try to increase the number of tuning steps.\n"
     ]
    },
    {
     "name": "stdout",
     "output_type": "stream",
     "text": [
      "3.726851932509178\n"
     ]
    },
    {
     "data": {
      "text/plain": "<Figure size 432x288 with 1 Axes>",
      "image/png": "[encoded data removed]"
     },
     "metadata": {},
     "output_type": "display_data"
    }
   ],
   "source": [
    "# Ratings for glasses 2\n",
    "rating_distribution_2 = np.array([0, 0, 0, 8, 8])\n",
    "simulation(rating_distribution_2)"
   ],
   "metadata": {
    "collapsed": false,
    "pycharm": {
     "name": "#%%\n"
    }
   }
  },
  {
   "cell_type": "markdown",
   "source": [
    "A few remarks here:\n",
    "- Graph 1 shows that the underlying rating(a proxy for quality) for glasses 1 is **above 4** at a **95% chance**.\n",
    "- Graph 2 shows that the underlying rating for glasses 2 is **above only 3.7** at a **95% chance**.\n",
    "- Even though the average rating for glasses 2 is 4.5, **the chance of that happening(the true quality worth a 4.5 rating) is only 5%**!\n",
    "\n",
    "Therefore, based on the simulation results, I'd pick glasses 1!\n",
    "\n",
    "To put the whole technique into practice, I applied the technique on the\n",
    "[yelp dataset](https://www.yelp.com/dataset/documentation/main), with an approximation formula since\n",
    "it'd be computationally super expensive to run pymc3 for each restaurant.\n",
    "\n",
    "The demo can be found [here](https://share.streamlit.io/raychn1997/bayesian-rater/main.py) ."
   ],
   "metadata": {
    "collapsed": false,
    "pycharm": {
     "name": "#%% md\n"
    }
   }
  }
 ],
 "metadata": {
  "kernelspec": {
   "display_name": "Python 3",
   "language": "python",
   "name": "python3"
  },
  "language_info": {
   "codemirror_mode": {
    "name": "ipython",
    "version": 2
   },
   "file_extension": ".py",
   "mimetype": "text/x-python",
   "name": "python",
   "nbconvert_exporter": "python",
   "pygments_lexer": "ipython2",
   "version": "2.7.6"
  }
 },
 "nbformat": 4,
 "nbformat_minor": 0
}